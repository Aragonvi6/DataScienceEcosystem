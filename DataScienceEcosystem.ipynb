# Data Science Tools and Ecosystem

# In this notebook, Data Science Tools and Ecosystem are summarized.

# Some of the popular languages that Data Scientists use are:
1.Python
2.R
3.Julia

# Some of the commonly used libraries used by Data Scientists include:
1.Pandas
2.Numpy
3.Matplotlib
4.Scikit-learn

# Data Science tools
1.Matplotlib
2.Seaborn
3.Plotly

### Arithmetic expressions
1.Addition (+): Adds two operands.
2.Subtraction (-): Subtracts the right operand from the left operand.
3.Multiplication (*): Multiplies two operands.
4.Division (/): Divides the left operand by the right operand.
5.Integer Division (//): Returns the floor division of the left operand by the right operand (removes the decimal part).
6.Modulus (%): Returns the remainder of the division of the left operand by the right operand.
7.Exponentiation (**): Raises the left operand to the power of the right operand.

##Exercise8

A= 3;
B= 4;
C= (A+B)+5;
C
